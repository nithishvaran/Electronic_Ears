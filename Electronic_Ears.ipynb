{
  "nbformat": 4,
  "nbformat_minor": 0,
  "metadata": {
    "colab": {
      "name": "Electronic_Ears.ipynb",
      "provenance": [],
      "include_colab_link": true
    },
    "kernelspec": {
      "name": "python3",
      "display_name": "Python 3"
    },
    "language_info": {
      "name": "python"
    }
  },
  "cells": [
    {
      "cell_type": "markdown",
      "metadata": {
        "id": "view-in-github",
        "colab_type": "text"
      },
      "source": [
        "<a href=\"https://colab.research.google.com/github/nithishvaran/Electronic_Ears/blob/main/Electronic_Ears.ipynb\" target=\"_parent\"><img src=\"https://colab.research.google.com/assets/colab-badge.svg\" alt=\"Open In Colab\"/></a>"
      ]
    },
    {
      "cell_type": "code",
      "metadata": {
        "id": "S_Ay2hR32yrX"
      },
      "source": [
        "%matplotlib inline\n",
        "import numpy as np\n",
        "import matplotlib.pyplot as plt\n",
        "import seaborn as sns; \n",
        "sns.set()\n",
        "import pandas as pd\n",
        "import nltk \n",
        "import nltk.corpus"
      ],
      "execution_count": null,
      "outputs": []
    },
    {
      "cell_type": "code",
      "metadata": {
        "id": "WERe33S226CH",
        "colab": {
          "base_uri": "https://localhost:8080/",
          "height": 723
        },
        "outputId": "8c526c33-499c-4b0c-e6d8-7e34d4cbb436"
      },
      "source": [
        "data = pd.read_csv(\"db.csv\")\n",
        "data"
      ],
      "execution_count": null,
      "outputs": [
        {
          "output_type": "execute_result",
          "data": {
            "text/html": [
              "<div>\n",
              "<style scoped>\n",
              "    .dataframe tbody tr th:only-of-type {\n",
              "        vertical-align: middle;\n",
              "    }\n",
              "\n",
              "    .dataframe tbody tr th {\n",
              "        vertical-align: top;\n",
              "    }\n",
              "\n",
              "    .dataframe thead th {\n",
              "        text-align: right;\n",
              "    }\n",
              "</style>\n",
              "<table border=\"1\" class=\"dataframe\">\n",
              "  <thead>\n",
              "    <tr style=\"text-align: right;\">\n",
              "      <th></th>\n",
              "      <th>Description</th>\n",
              "      <th>Target</th>\n",
              "    </tr>\n",
              "  </thead>\n",
              "  <tbody>\n",
              "    <tr>\n",
              "      <th>0</th>\n",
              "      <td>I am planning to submit this by next week</td>\n",
              "      <td>Not Distracted</td>\n",
              "    </tr>\n",
              "    <tr>\n",
              "      <th>1</th>\n",
              "      <td>can we all go for a trip goa chennai may be</td>\n",
              "      <td>Distracted</td>\n",
              "    </tr>\n",
              "    <tr>\n",
              "      <th>2</th>\n",
              "      <td>Project submission deadline is nearing</td>\n",
              "      <td>Not Distracted</td>\n",
              "    </tr>\n",
              "    <tr>\n",
              "      <th>3</th>\n",
              "      <td>I completed and submitted a module in the project</td>\n",
              "      <td>Not Distracted</td>\n",
              "    </tr>\n",
              "    <tr>\n",
              "      <th>4</th>\n",
              "      <td>can we make any further updates to the project</td>\n",
              "      <td>Not Distracted</td>\n",
              "    </tr>\n",
              "    <tr>\n",
              "      <th>5</th>\n",
              "      <td>I though of a beautiful idea to our project</td>\n",
              "      <td>Not Distracted</td>\n",
              "    </tr>\n",
              "    <tr>\n",
              "      <th>6</th>\n",
              "      <td>Let's chill from now, movies are coming this d...</td>\n",
              "      <td>Distracted</td>\n",
              "    </tr>\n",
              "    <tr>\n",
              "      <th>7</th>\n",
              "      <td>I was hanging out with all my friend last nigh...</td>\n",
              "      <td>Distracted</td>\n",
              "    </tr>\n",
              "    <tr>\n",
              "      <th>8</th>\n",
              "      <td>Our boss has asked us to do some quality team ...</td>\n",
              "      <td>Not Distracted</td>\n",
              "    </tr>\n",
              "    <tr>\n",
              "      <th>9</th>\n",
              "      <td>I spoke with all our team members last working...</td>\n",
              "      <td>Not Distracted</td>\n",
              "    </tr>\n",
              "    <tr>\n",
              "      <th>10</th>\n",
              "      <td>we can finish the final draft accordingly with...</td>\n",
              "      <td>Not Distracted</td>\n",
              "    </tr>\n",
              "    <tr>\n",
              "      <th>11</th>\n",
              "      <td>We are all working very hard to mangae the dea...</td>\n",
              "      <td>Not Distracted</td>\n",
              "    </tr>\n",
              "    <tr>\n",
              "      <th>12</th>\n",
              "      <td>let's complete this all within today</td>\n",
              "      <td>Not Distracted</td>\n",
              "    </tr>\n",
              "    <tr>\n",
              "      <th>13</th>\n",
              "      <td>the work is getting delated are we all staying...</td>\n",
              "      <td>Not Distracted</td>\n",
              "    </tr>\n",
              "    <tr>\n",
              "      <th>14</th>\n",
              "      <td>you know what that rohith did yesterday, he's ...</td>\n",
              "      <td>Distracted</td>\n",
              "    </tr>\n",
              "    <tr>\n",
              "      <th>15</th>\n",
              "      <td>I am not happy with how team mates are behaving</td>\n",
              "      <td>Distracted</td>\n",
              "    </tr>\n",
              "    <tr>\n",
              "      <th>16</th>\n",
              "      <td>can we all split up the work</td>\n",
              "      <td>Not Distracted</td>\n",
              "    </tr>\n",
              "    <tr>\n",
              "      <th>17</th>\n",
              "      <td>let's go out for some movies guys</td>\n",
              "      <td>Distracted</td>\n",
              "    </tr>\n",
              "    <tr>\n",
              "      <th>18</th>\n",
              "      <td>there are lots of sheets and writing work has ...</td>\n",
              "      <td>Not Distracted</td>\n",
              "    </tr>\n",
              "    <tr>\n",
              "      <th>19</th>\n",
              "      <td>let's chill and trip from now on</td>\n",
              "      <td>Distracted</td>\n",
              "    </tr>\n",
              "    <tr>\n",
              "      <th>20</th>\n",
              "      <td>chill and let's meet at goa</td>\n",
              "      <td>Distracted</td>\n",
              "    </tr>\n",
              "    <tr>\n",
              "      <th>21</th>\n",
              "      <td>Hi guys long time no see how are you all</td>\n",
              "      <td>Distracted</td>\n",
              "    </tr>\n",
              "  </tbody>\n",
              "</table>\n",
              "</div>"
            ],
            "text/plain": [
              "                                          Description          Target\n",
              "0           I am planning to submit this by next week  Not Distracted\n",
              "1         can we all go for a trip goa chennai may be      Distracted\n",
              "2              Project submission deadline is nearing  Not Distracted\n",
              "3   I completed and submitted a module in the project  Not Distracted\n",
              "4      can we make any further updates to the project  Not Distracted\n",
              "5         I though of a beautiful idea to our project  Not Distracted\n",
              "6   Let's chill from now, movies are coming this d...      Distracted\n",
              "7   I was hanging out with all my friend last nigh...      Distracted\n",
              "8   Our boss has asked us to do some quality team ...  Not Distracted\n",
              "9   I spoke with all our team members last working...  Not Distracted\n",
              "10  we can finish the final draft accordingly with...  Not Distracted\n",
              "11  We are all working very hard to mangae the dea...  Not Distracted\n",
              "12               let's complete this all within today  Not Distracted\n",
              "13  the work is getting delated are we all staying...  Not Distracted\n",
              "14  you know what that rohith did yesterday, he's ...      Distracted\n",
              "15   I am not happy with how team mates are behaving       Distracted\n",
              "16                       can we all split up the work  Not Distracted\n",
              "17                  let's go out for some movies guys      Distracted\n",
              "18  there are lots of sheets and writing work has ...  Not Distracted\n",
              "19                   let's chill and trip from now on      Distracted\n",
              "20                        chill and let's meet at goa      Distracted\n",
              "21           Hi guys long time no see how are you all      Distracted"
            ]
          },
          "metadata": {},
          "execution_count": 18
        }
      ]
    },
    {
      "cell_type": "code",
      "metadata": {
        "id": "CRHanl_J3faf"
      },
      "source": [
        "from nltk.tokenize import word_tokenize"
      ],
      "execution_count": null,
      "outputs": []
    },
    {
      "cell_type": "code",
      "metadata": {
        "id": "AR-ifKPg3jl4"
      },
      "source": [
        "special_charecters = '''!()-[]{};:'\"\\,<>./?@#$%^&*_~`+|'''\n",
        "def remove_special_charecters(text):\n",
        "    newString = \"\"\n",
        "    for x in text:\n",
        "        if x not in special_charecters:\n",
        "            newString = newString + x\n",
        "    return newString"
      ],
      "execution_count": null,
      "outputs": []
    },
    {
      "cell_type": "code",
      "metadata": {
        "id": "H4CGsvQQ3l-0"
      },
      "source": [
        "stopwords = nltk.corpus.stopwords.words('english')\n",
        "def remove_stopwords(txt_tokenized):\n",
        "    txt_clean = [word for word in txt_tokenized if word not in stopwords]\n",
        "    return txt_clean"
      ],
      "execution_count": null,
      "outputs": []
    },
    {
      "cell_type": "code",
      "metadata": {
        "colab": {
          "base_uri": "https://localhost:8080/",
          "height": 202
        },
        "id": "i6cG1FIl3pNQ",
        "outputId": "c8f9f6fb-0fe3-4c06-8939-ba5bc16b1936"
      },
      "source": [
        "new_df = pd.DataFrame()\n",
        "data['Description'] = data['Description'].apply(lambda x:  remove_special_charecters(x))\n",
        "new_df['Tokenized_Description']=data['Description'].apply(lambda x:  word_tokenize(x))\n",
        "new_df['no_stop_words']=new_df['Tokenized_Description'].apply(lambda x:  remove_stopwords(x))\n",
        "new_df['Final_Description'] = new_df['no_stop_words'].apply(lambda x: (' '.join(x)))\n",
        "new_df['Target'] = data['Target']\n",
        "new_df.head()"
      ],
      "execution_count": null,
      "outputs": [
        {
          "output_type": "execute_result",
          "data": {
            "text/html": [
              "<div>\n",
              "<style scoped>\n",
              "    .dataframe tbody tr th:only-of-type {\n",
              "        vertical-align: middle;\n",
              "    }\n",
              "\n",
              "    .dataframe tbody tr th {\n",
              "        vertical-align: top;\n",
              "    }\n",
              "\n",
              "    .dataframe thead th {\n",
              "        text-align: right;\n",
              "    }\n",
              "</style>\n",
              "<table border=\"1\" class=\"dataframe\">\n",
              "  <thead>\n",
              "    <tr style=\"text-align: right;\">\n",
              "      <th></th>\n",
              "      <th>Tokenized_Description</th>\n",
              "      <th>no_stop_words</th>\n",
              "      <th>Final_Description</th>\n",
              "      <th>Target</th>\n",
              "    </tr>\n",
              "  </thead>\n",
              "  <tbody>\n",
              "    <tr>\n",
              "      <th>0</th>\n",
              "      <td>[I, am, planning, to, submit, this, by, next, ...</td>\n",
              "      <td>[I, planning, submit, next, week]</td>\n",
              "      <td>I planning submit next week</td>\n",
              "      <td>Not Distracted</td>\n",
              "    </tr>\n",
              "    <tr>\n",
              "      <th>1</th>\n",
              "      <td>[can, we, all, go, for, a, trip, goa, chennai,...</td>\n",
              "      <td>[go, trip, goa, chennai, may]</td>\n",
              "      <td>go trip goa chennai may</td>\n",
              "      <td>Distracted</td>\n",
              "    </tr>\n",
              "    <tr>\n",
              "      <th>2</th>\n",
              "      <td>[Project, submission, deadline, is, nearing]</td>\n",
              "      <td>[Project, submission, deadline, nearing]</td>\n",
              "      <td>Project submission deadline nearing</td>\n",
              "      <td>Not Distracted</td>\n",
              "    </tr>\n",
              "    <tr>\n",
              "      <th>3</th>\n",
              "      <td>[I, completed, and, submitted, a, module, in, ...</td>\n",
              "      <td>[I, completed, submitted, module, project]</td>\n",
              "      <td>I completed submitted module project</td>\n",
              "      <td>Not Distracted</td>\n",
              "    </tr>\n",
              "    <tr>\n",
              "      <th>4</th>\n",
              "      <td>[can, we, make, any, further, updates, to, the...</td>\n",
              "      <td>[make, updates, project]</td>\n",
              "      <td>make updates project</td>\n",
              "      <td>Not Distracted</td>\n",
              "    </tr>\n",
              "  </tbody>\n",
              "</table>\n",
              "</div>"
            ],
            "text/plain": [
              "                               Tokenized_Description  ...          Target\n",
              "0  [I, am, planning, to, submit, this, by, next, ...  ...  Not Distracted\n",
              "1  [can, we, all, go, for, a, trip, goa, chennai,...  ...      Distracted\n",
              "2       [Project, submission, deadline, is, nearing]  ...  Not Distracted\n",
              "3  [I, completed, and, submitted, a, module, in, ...  ...  Not Distracted\n",
              "4  [can, we, make, any, further, updates, to, the...  ...  Not Distracted\n",
              "\n",
              "[5 rows x 4 columns]"
            ]
          },
          "metadata": {},
          "execution_count": 22
        }
      ]
    },
    {
      "cell_type": "code",
      "metadata": {
        "id": "wUwQ7Yfd4Fs6"
      },
      "source": [
        "from sklearn.model_selection import train_test_split\n",
        "Independent_var = new_df.Final_Description\n",
        "Dependent_var = new_df.Target\n",
        "IV_train, IV_test, DV_train, DV_test = train_test_split(Independent_var,Dependent_var,test_size=0.1, random_state=1)"
      ],
      "execution_count": null,
      "outputs": []
    },
    {
      "cell_type": "code",
      "metadata": {
        "colab": {
          "base_uri": "https://localhost:8080/"
        },
        "id": "JyD9g68v4W0A",
        "outputId": "b6f3a3bc-fc58-491f-bba3-ccbd8ea62fbe"
      },
      "source": [
        "from sklearn.feature_extraction.text import TfidfVectorizer\n",
        "from sklearn.naive_bayes import MultinomialNB\n",
        "from sklearn.pipeline import make_pipeline\n",
        "from sklearn.metrics import confusion_matrix,accuracy_score,plot_confusion_matrix\n",
        "\n",
        "model = make_pipeline(TfidfVectorizer(),MultinomialNB())\n",
        "\n",
        "model.fit(IV_train,DV_train)"
      ],
      "execution_count": null,
      "outputs": [
        {
          "output_type": "execute_result",
          "data": {
            "text/plain": [
              "Pipeline(memory=None,\n",
              "         steps=[('tfidfvectorizer',\n",
              "                 TfidfVectorizer(analyzer='word', binary=False,\n",
              "                                 decode_error='strict',\n",
              "                                 dtype=<class 'numpy.float64'>,\n",
              "                                 encoding='utf-8', input='content',\n",
              "                                 lowercase=True, max_df=1.0, max_features=None,\n",
              "                                 min_df=1, ngram_range=(1, 1), norm='l2',\n",
              "                                 preprocessor=None, smooth_idf=True,\n",
              "                                 stop_words=None, strip_accents=None,\n",
              "                                 sublinear_tf=False,\n",
              "                                 token_pattern='(?u)\\\\b\\\\w\\\\w+\\\\b',\n",
              "                                 tokenizer=None, use_idf=True,\n",
              "                                 vocabulary=None)),\n",
              "                ('multinomialnb',\n",
              "                 MultinomialNB(alpha=1.0, class_prior=None, fit_prior=True))],\n",
              "         verbose=False)"
            ]
          },
          "metadata": {},
          "execution_count": 24
        }
      ]
    },
    {
      "cell_type": "code",
      "metadata": {
        "colab": {
          "base_uri": "https://localhost:8080/",
          "height": 306
        },
        "id": "UvFZyXTVGM5I",
        "outputId": "26d4d32c-9ef1-4e9f-ca9b-48fbe954bd73"
      },
      "source": [
        "labels = model.predict(IV_test)\n",
        "print(\"Accuracy Score: \", accuracy_score(DV_test,labels))\n",
        "disp = plot_confusion_matrix(model,IV_test,DV_test,cmap='Blues')"
      ],
      "execution_count": null,
      "outputs": [
        {
          "output_type": "stream",
          "name": "stdout",
          "text": [
            "Accuracy Score:  1.0\n"
          ]
        },
        {
          "output_type": "display_data",
          "data": {
            "image/png": "[encoded data removed]",
            "text/plain": [
              "<Figure size 432x288 with 2 Axes>"
            ]
          },
          "metadata": {}
        }
      ]
    },
    {
      "cell_type": "code",
      "metadata": {
        "id": "xASacj-k4Zw5"
      },
      "source": [
        "import joblib\n",
        "import os\n",
        "\n",
        "#path = \"final.sav\"\n",
        "#assert os.path.isfile(path)\n",
        "#with open(path,'wb') as f:\n",
        "#joblib.dump(model,f)"
      ],
      "execution_count": null,
      "outputs": []
    }
  ]
}